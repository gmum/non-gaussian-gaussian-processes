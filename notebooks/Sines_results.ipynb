{
 "cells": [
  {
   "cell_type": "code",
   "execution_count": 1,
   "metadata": {},
   "outputs": [],
   "source": [
    "import numpy as np\n",
    "import pandas as pd\n",
    "import matplotlib.pyplot as plt\n",
    "import os"
   ]
  },
  {
   "cell_type": "code",
   "execution_count": 2,
   "metadata": {},
   "outputs": [],
   "source": [
    "prefix='/home/anowak/projects/deep-kernel-transfer/save/sines1d/{}/checkpoints/sines/MLP2_DKT_test_results.npy'"
   ]
  },
  {
   "cell_type": "code",
   "execution_count": 3,
   "metadata": {},
   "outputs": [],
   "source": [
    "kernel='nn'"
   ]
  },
  {
   "cell_type": "code",
   "execution_count": 4,
   "metadata": {},
   "outputs": [],
   "source": [
    "data = np.load(prefix.format(kernel), allow_pickle=True).item()"
   ]
  },
  {
   "cell_type": "code",
   "execution_count": 5,
   "metadata": {},
   "outputs": [
    {
     "data": {
      "text/plain": [
       "dict_keys(['mse_list', 'nll_list', 'mean', 'lower', 'upper', 'x', 'y', 'mse', 'mse_std', 'nll', 'nll_std'])"
      ]
     },
     "execution_count": 5,
     "metadata": {},
     "output_type": "execute_result"
    }
   ],
   "source": [
    "data.keys()"
   ]
  },
  {
   "cell_type": "code",
   "execution_count": 6,
   "metadata": {},
   "outputs": [
    {
     "data": {
      "text/plain": [
       "[0.02400265]"
      ]
     },
     "execution_count": 6,
     "metadata": {},
     "output_type": "execute_result"
    }
   ],
   "source": [
    "data[\"mse\"]"
   ]
  },
  {
   "cell_type": "code",
   "execution_count": 7,
   "metadata": {},
   "outputs": [
    {
     "data": {
      "text/plain": [
       "[0.015421757]"
      ]
     },
     "execution_count": 7,
     "metadata": {},
     "output_type": "execute_result"
    }
   ],
   "source": [
    "data[\"mse_std\"]"
   ]
  },
  {
   "cell_type": "code",
   "execution_count": 8,
   "metadata": {},
   "outputs": [],
   "source": [
    "kernels = [\"rbf\",\"spectral\",\"nn\",\"flow_rbf\",\"flow_spectral\",\"flow_nn\"]"
   ]
  },
  {
   "cell_type": "code",
   "execution_count": 37,
   "metadata": {},
   "outputs": [],
   "source": [
    "def get_table(prefix, kernels):\n",
    "    results = {\"method\":[], \"mse\":[], \"nll\":[]}\n",
    "    for k in kernels:\n",
    "            try:\n",
    "                if \"flow\" in k:\n",
    "                    m = \"NGGP\"\n",
    "                else:\n",
    "                    m = \"DKT\"\n",
    "                data = np.load(prefix.format(k, m), allow_pickle=True).item()\n",
    "                results[\"method\"].append(k)\n",
    "                results[\"mse\"].append(\"{:.3f} \\pm {:.3f}\".format(np.round(data[\"mse\"][0],3),np.round(data[\"mse_std\"][0],3)))\n",
    "                results[\"nll\"].append(\"{:.3f} \\pm {:.3f}\".format(np.round(data[\"nll\"][0],3),np.round(data[\"nll_std\"][0],3)))\n",
    "            except IOError as e:\n",
    "                results[\"method\"].append(k)\n",
    "                results[\"mse\"].append(np.nan)\n",
    "                results[\"nll\"].append(np.nan)\n",
    "                print(e)\n",
    "    return pd.DataFrame.from_dict(results)"
   ]
  },
  {
   "cell_type": "code",
   "execution_count": 38,
   "metadata": {},
   "outputs": [],
   "source": [
    "import torch"
   ]
  },
  {
   "cell_type": "code",
   "execution_count": 39,
   "metadata": {
    "scrolled": true
   },
   "outputs": [],
   "source": [
    "prefix='/home/anowak/projects/deep-kernel-transfer/save/res_sines/{}/checkpoints/sines/MLP2_{}_test_results.npy'\n",
    "sines1_in_range = get_table(prefix,['spectral', 'flow_spectral'])\n",
    "prefix='/home/anowak/projects/deep-kernel-transfer/save/res_sines/{}/checkpoints/sines/MLP2_{}_outr_test_results.npy'\n",
    "sines1_out_range = get_table(prefix,['spectral', 'flow_spectral'])\n"
   ]
  },
  {
   "cell_type": "code",
   "execution_count": 42,
   "metadata": {},
   "outputs": [
    {
     "data": {
      "text/html": [
       "<div>\n",
       "<style scoped>\n",
       "    .dataframe tbody tr th:only-of-type {\n",
       "        vertical-align: middle;\n",
       "    }\n",
       "\n",
       "    .dataframe tbody tr th {\n",
       "        vertical-align: top;\n",
       "    }\n",
       "\n",
       "    .dataframe thead th {\n",
       "        text-align: right;\n",
       "    }\n",
       "</style>\n",
       "<table border=\"1\" class=\"dataframe\">\n",
       "  <thead>\n",
       "    <tr style=\"text-align: right;\">\n",
       "      <th></th>\n",
       "      <th>method</th>\n",
       "      <th>mse</th>\n",
       "      <th>nll</th>\n",
       "    </tr>\n",
       "  </thead>\n",
       "  <tbody>\n",
       "    <tr>\n",
       "      <th>0</th>\n",
       "      <td>spectral</td>\n",
       "      <td>0.017 \\pm 0.008</td>\n",
       "      <td>-0.838 \\pm 0.048</td>\n",
       "    </tr>\n",
       "    <tr>\n",
       "      <th>1</th>\n",
       "      <td>flow_spectral</td>\n",
       "      <td>0.019 \\pm 0.009</td>\n",
       "      <td>-0.769 \\pm 0.087</td>\n",
       "    </tr>\n",
       "  </tbody>\n",
       "</table>\n",
       "</div>"
      ],
      "text/plain": [
       "          method              mse               nll\n",
       "0       spectral  0.017 \\pm 0.008  -0.838 \\pm 0.048\n",
       "1  flow_spectral  0.019 \\pm 0.009  -0.769 \\pm 0.087"
      ]
     },
     "execution_count": 42,
     "metadata": {},
     "output_type": "execute_result"
    }
   ],
   "source": [
    "sines1_in_range"
   ]
  },
  {
   "cell_type": "code",
   "execution_count": 43,
   "metadata": {},
   "outputs": [],
   "source": [
    "sines1 = sines1_in_range.merge(sines1_out_range, on=\"method\", suffixes=(\"_in_range\", \"_out_range\"))"
   ]
  },
  {
   "cell_type": "code",
   "execution_count": 44,
   "metadata": {},
   "outputs": [
    {
     "data": {
      "text/html": [
       "<div>\n",
       "<style scoped>\n",
       "    .dataframe tbody tr th:only-of-type {\n",
       "        vertical-align: middle;\n",
       "    }\n",
       "\n",
       "    .dataframe tbody tr th {\n",
       "        vertical-align: top;\n",
       "    }\n",
       "\n",
       "    .dataframe thead th {\n",
       "        text-align: right;\n",
       "    }\n",
       "</style>\n",
       "<table border=\"1\" class=\"dataframe\">\n",
       "  <thead>\n",
       "    <tr style=\"text-align: right;\">\n",
       "      <th></th>\n",
       "      <th>method</th>\n",
       "      <th>mse_in_range</th>\n",
       "      <th>nll_in_range</th>\n",
       "      <th>mse_out_range</th>\n",
       "      <th>nll_out_range</th>\n",
       "    </tr>\n",
       "  </thead>\n",
       "  <tbody>\n",
       "    <tr>\n",
       "      <th>0</th>\n",
       "      <td>spectral</td>\n",
       "      <td>0.017 \\pm 0.008</td>\n",
       "      <td>-0.838 \\pm 0.048</td>\n",
       "      <td>0.023 \\pm 0.022</td>\n",
       "      <td>-0.798 \\pm 0.057</td>\n",
       "    </tr>\n",
       "    <tr>\n",
       "      <th>1</th>\n",
       "      <td>flow_spectral</td>\n",
       "      <td>0.019 \\pm 0.009</td>\n",
       "      <td>-0.769 \\pm 0.087</td>\n",
       "      <td>2.654 \\pm 5.103</td>\n",
       "      <td>10.406 \\pm 13.566</td>\n",
       "    </tr>\n",
       "  </tbody>\n",
       "</table>\n",
       "</div>"
      ],
      "text/plain": [
       "          method     mse_in_range      nll_in_range    mse_out_range  \\\n",
       "0       spectral  0.017 \\pm 0.008  -0.838 \\pm 0.048  0.023 \\pm 0.022   \n",
       "1  flow_spectral  0.019 \\pm 0.009  -0.769 \\pm 0.087  2.654 \\pm 5.103   \n",
       "\n",
       "       nll_out_range  \n",
       "0   -0.798 \\pm 0.057  \n",
       "1  10.406 \\pm 13.566  "
      ]
     },
     "execution_count": 44,
     "metadata": {},
     "output_type": "execute_result"
    }
   ],
   "source": [
    "sines1"
   ]
  },
  {
   "cell_type": "code",
   "execution_count": 40,
   "metadata": {},
   "outputs": [],
   "source": [
    "prefix='/home/anowak/projects/deep-kernel-transfer/save/sines1d/{}/checkpoints/sines/MLP2_DKT_test_results.npy'\n",
    "sines_in_range = get_table(prefix,kernels)\n",
    "prefix='/home/anowak/projects/deep-kernel-transfer/save/sines1d/{}/checkpoints/sines/MLP2_DKT_outr_test_results.npy'\n",
    "sines_out_range = get_table(prefix,kernels)\n",
    "prefix='/home/anowak/projects/deep-kernel-transfer/save/sines1d_hetero/{}/checkpoints/sines/MLP2_DKT_test_results.npy'\n",
    "sinesh_in_range = get_table(prefix,kernels)\n",
    "prefix='/home/anowak/projects/deep-kernel-transfer/save/sines1d_hetero/{}/checkpoints/sines/MLP2_DKT_outr_test_results.npy'\n",
    "sinesh_out_range = get_table(prefix,kernels)"
   ]
  },
  {
   "cell_type": "code",
   "execution_count": 12,
   "metadata": {},
   "outputs": [],
   "source": [
    "sines = sines_in_range.merge(sines_out_range, on=\"method\", suffixes=(\"_in_range\", \"_out_range\"))"
   ]
  },
  {
   "cell_type": "code",
   "execution_count": 13,
   "metadata": {},
   "outputs": [],
   "source": [
    "sinesh = sinesh_in_range.merge(sinesh_out_range, on=\"method\", suffixes=(\"_in_range\", \"_out_range\"))"
   ]
  },
  {
   "cell_type": "code",
   "execution_count": 14,
   "metadata": {},
   "outputs": [
    {
     "data": {
      "text/html": [
       "<div>\n",
       "<style scoped>\n",
       "    .dataframe tbody tr th:only-of-type {\n",
       "        vertical-align: middle;\n",
       "    }\n",
       "\n",
       "    .dataframe tbody tr th {\n",
       "        vertical-align: top;\n",
       "    }\n",
       "\n",
       "    .dataframe thead th {\n",
       "        text-align: right;\n",
       "    }\n",
       "</style>\n",
       "<table border=\"1\" class=\"dataframe\">\n",
       "  <thead>\n",
       "    <tr style=\"text-align: right;\">\n",
       "      <th></th>\n",
       "      <th>method</th>\n",
       "      <th>mse_in_range</th>\n",
       "      <th>nll_in_range</th>\n",
       "      <th>mse_out_range</th>\n",
       "      <th>nll_out_range</th>\n",
       "    </tr>\n",
       "  </thead>\n",
       "  <tbody>\n",
       "    <tr>\n",
       "      <th>0</th>\n",
       "      <td>rbf</td>\n",
       "      <td>1.357 \\pm 1.640</td>\n",
       "      <td>-0.760 \\pm 0.057</td>\n",
       "      <td>2.942 \\pm 2.697</td>\n",
       "      <td>-0.694 \\pm 0.060</td>\n",
       "    </tr>\n",
       "    <tr>\n",
       "      <th>1</th>\n",
       "      <td>spectral</td>\n",
       "      <td>0.019 \\pm 0.010</td>\n",
       "      <td>-0.835 \\pm 0.052</td>\n",
       "      <td>0.036 \\pm 0.034</td>\n",
       "      <td>-0.698 \\pm 0.140</td>\n",
       "    </tr>\n",
       "    <tr>\n",
       "      <th>2</th>\n",
       "      <td>nn</td>\n",
       "      <td>0.024 \\pm 0.015</td>\n",
       "      <td>-0.732 \\pm 0.111</td>\n",
       "      <td>6.614 \\pm 31.631</td>\n",
       "      <td>38.385 \\pm 40.160</td>\n",
       "    </tr>\n",
       "    <tr>\n",
       "      <th>3</th>\n",
       "      <td>flow_rbf</td>\n",
       "      <td>1.020 \\pm 1.400</td>\n",
       "      <td>-0.736 \\pm 0.066</td>\n",
       "      <td>3.020 \\pm 2.530</td>\n",
       "      <td>-0.653 \\pm 0.081</td>\n",
       "    </tr>\n",
       "    <tr>\n",
       "      <th>4</th>\n",
       "      <td>flow_spectral</td>\n",
       "      <td>0.018 \\pm 0.010</td>\n",
       "      <td>-0.833 \\pm 0.052</td>\n",
       "      <td>0.026 \\pm 0.022</td>\n",
       "      <td>-0.799 \\pm 0.067</td>\n",
       "    </tr>\n",
       "    <tr>\n",
       "      <th>5</th>\n",
       "      <td>flow_nn</td>\n",
       "      <td>0.038 \\pm 0.030</td>\n",
       "      <td>-0.727 \\pm 0.102</td>\n",
       "      <td>7.335 \\pm 12.852</td>\n",
       "      <td>29.859 \\pm 27.970</td>\n",
       "    </tr>\n",
       "  </tbody>\n",
       "</table>\n",
       "</div>"
      ],
      "text/plain": [
       "          method     mse_in_range      nll_in_range     mse_out_range  \\\n",
       "0            rbf  1.357 \\pm 1.640  -0.760 \\pm 0.057   2.942 \\pm 2.697   \n",
       "1       spectral  0.019 \\pm 0.010  -0.835 \\pm 0.052   0.036 \\pm 0.034   \n",
       "2             nn  0.024 \\pm 0.015  -0.732 \\pm 0.111  6.614 \\pm 31.631   \n",
       "3       flow_rbf  1.020 \\pm 1.400  -0.736 \\pm 0.066   3.020 \\pm 2.530   \n",
       "4  flow_spectral  0.018 \\pm 0.010  -0.833 \\pm 0.052   0.026 \\pm 0.022   \n",
       "5        flow_nn  0.038 \\pm 0.030  -0.727 \\pm 0.102  7.335 \\pm 12.852   \n",
       "\n",
       "       nll_out_range  \n",
       "0   -0.694 \\pm 0.060  \n",
       "1   -0.698 \\pm 0.140  \n",
       "2  38.385 \\pm 40.160  \n",
       "3   -0.653 \\pm 0.081  \n",
       "4   -0.799 \\pm 0.067  \n",
       "5  29.859 \\pm 27.970  "
      ]
     },
     "execution_count": 14,
     "metadata": {},
     "output_type": "execute_result"
    }
   ],
   "source": [
    "sines"
   ]
  },
  {
   "cell_type": "code",
   "execution_count": null,
   "metadata": {},
   "outputs": [],
   "source": []
  },
  {
   "cell_type": "code",
   "execution_count": 15,
   "metadata": {},
   "outputs": [
    {
     "data": {
      "text/html": [
       "<div>\n",
       "<style scoped>\n",
       "    .dataframe tbody tr th:only-of-type {\n",
       "        vertical-align: middle;\n",
       "    }\n",
       "\n",
       "    .dataframe tbody tr th {\n",
       "        vertical-align: top;\n",
       "    }\n",
       "\n",
       "    .dataframe thead th {\n",
       "        text-align: right;\n",
       "    }\n",
       "</style>\n",
       "<table border=\"1\" class=\"dataframe\">\n",
       "  <thead>\n",
       "    <tr style=\"text-align: right;\">\n",
       "      <th></th>\n",
       "      <th>method</th>\n",
       "      <th>mse_in_range</th>\n",
       "      <th>nll_in_range</th>\n",
       "      <th>mse_out_range</th>\n",
       "      <th>nll_out_range</th>\n",
       "    </tr>\n",
       "  </thead>\n",
       "  <tbody>\n",
       "    <tr>\n",
       "      <th>0</th>\n",
       "      <td>rbf</td>\n",
       "      <td>1.290 \\pm 1.736</td>\n",
       "      <td>-0.458 \\pm 0.077</td>\n",
       "      <td>2.197 \\pm 2.284</td>\n",
       "      <td>-0.587 \\pm 0.067</td>\n",
       "    </tr>\n",
       "    <tr>\n",
       "      <th>1</th>\n",
       "      <td>spectral</td>\n",
       "      <td>0.140 \\pm 0.406</td>\n",
       "      <td>-0.521 \\pm 0.063</td>\n",
       "      <td>0.169 \\pm 0.411</td>\n",
       "      <td>-0.654 \\pm 0.053</td>\n",
       "    </tr>\n",
       "    <tr>\n",
       "      <th>2</th>\n",
       "      <td>nn</td>\n",
       "      <td>0.032 \\pm 0.016</td>\n",
       "      <td>-0.506 \\pm 0.075</td>\n",
       "      <td>4.350 \\pm 9.728</td>\n",
       "      <td>24.462 \\pm 24.492</td>\n",
       "    </tr>\n",
       "    <tr>\n",
       "      <th>3</th>\n",
       "      <td>flow_rbf</td>\n",
       "      <td>0.979 \\pm 1.336</td>\n",
       "      <td>-0.509 \\pm 0.068</td>\n",
       "      <td>3.130 \\pm 2.680</td>\n",
       "      <td>-0.681 \\pm 0.078</td>\n",
       "    </tr>\n",
       "    <tr>\n",
       "      <th>4</th>\n",
       "      <td>flow_spectral</td>\n",
       "      <td>0.136 \\pm 0.434</td>\n",
       "      <td>-0.527 \\pm 0.067</td>\n",
       "      <td>0.168 \\pm 0.428</td>\n",
       "      <td>-0.633 \\pm 0.058</td>\n",
       "    </tr>\n",
       "    <tr>\n",
       "      <th>5</th>\n",
       "      <td>flow_nn</td>\n",
       "      <td>0.038 \\pm 0.021</td>\n",
       "      <td>-0.558 \\pm 0.062</td>\n",
       "      <td>7.288 \\pm 13.816</td>\n",
       "      <td>20.710 \\pm 22.543</td>\n",
       "    </tr>\n",
       "  </tbody>\n",
       "</table>\n",
       "</div>"
      ],
      "text/plain": [
       "          method     mse_in_range      nll_in_range     mse_out_range  \\\n",
       "0            rbf  1.290 \\pm 1.736  -0.458 \\pm 0.077   2.197 \\pm 2.284   \n",
       "1       spectral  0.140 \\pm 0.406  -0.521 \\pm 0.063   0.169 \\pm 0.411   \n",
       "2             nn  0.032 \\pm 0.016  -0.506 \\pm 0.075   4.350 \\pm 9.728   \n",
       "3       flow_rbf  0.979 \\pm 1.336  -0.509 \\pm 0.068   3.130 \\pm 2.680   \n",
       "4  flow_spectral  0.136 \\pm 0.434  -0.527 \\pm 0.067   0.168 \\pm 0.428   \n",
       "5        flow_nn  0.038 \\pm 0.021  -0.558 \\pm 0.062  7.288 \\pm 13.816   \n",
       "\n",
       "       nll_out_range  \n",
       "0   -0.587 \\pm 0.067  \n",
       "1   -0.654 \\pm 0.053  \n",
       "2  24.462 \\pm 24.492  \n",
       "3   -0.681 \\pm 0.078  \n",
       "4   -0.633 \\pm 0.058  \n",
       "5  20.710 \\pm 22.543  "
      ]
     },
     "execution_count": 15,
     "metadata": {},
     "output_type": "execute_result"
    }
   ],
   "source": [
    "sinesh"
   ]
  },
  {
   "cell_type": "markdown",
   "metadata": {},
   "source": [
    "# Sines DATASET"
   ]
  },
  {
   "cell_type": "code",
   "execution_count": 15,
   "metadata": {},
   "outputs": [],
   "source": [
    "\"\"\" Code for loading data. \"\"\"\n",
    "\n",
    "import numpy as np\n",
    "\n",
    "INPUT_DIM = 1\n",
    "\n",
    "\n",
    "class SinusoidalDataGenerator(object):\n",
    "    \"\"\"\n",
    "    Data Generator capable of generating batches of sinusoid data.\n",
    "    A \"class\" is considered a particular sinusoid function.\n",
    "    \"\"\"\n",
    "\n",
    "    def __init__(self, num_samples_per_class, batch_size, output_dim=1, multidimensional_amp=False,\n",
    "                 multidimensional_phase=True, noise=True, out_of_range=False):\n",
    "        \"\"\"\n",
    "        Args:\n",
    "            num_samples_per_class: num samples to generate per class in one batch\n",
    "            batch_size: size of meta batch size (e.g. number of functions)\n",
    "        \"\"\"\n",
    "        self.batch_size = batch_size\n",
    "        self.num_samples_per_class = num_samples_per_class\n",
    "        self.num_classes = 1  # by default 1 (only relevant for classification problems)\n",
    "\n",
    "        self.generate = self.generate_sinusoid_batch\n",
    "        self.amp_range = [0.1, 5.0]\n",
    "        self.phase_range = [0, np.pi]\n",
    "        self.input_range = [-5.0, 5.0]\n",
    "        if out_of_range:\n",
    "            self.input_range = [-5.0, 10.0]\n",
    "        self.dim_input = INPUT_DIM\n",
    "        self.dim_output = output_dim\n",
    "        self.multidimensional_amp = multidimensional_amp\n",
    "        self.multidimensional_phase = multidimensional_phase\n",
    "        self.noise = noise\n",
    "        #self.split_intervals = [(-5.0, -2.5), (-2.5, 0.0), (0.0, 2.5), (2.5, 5.0)]\n",
    "        #self.split_intervals = [(-5.0, -3.75), (-3.75, -2.5), (-2.5, -1.25), (-1.25, 0.0),\n",
    "        #                        (0.0, 1.25), (1.25, 2.5), (2.5, 3.75), (3.75, 5)]\n",
    "\n",
    "    def generate_sinusoid_batch(self, input_idx=None):\n",
    "        # input_idx is used during qualitative testing --the number of examples used for the grad update\n",
    "\n",
    "\n",
    "\n",
    "        if self.multidimensional_amp:\n",
    "            # y_1 = A_1*sinus(x_1+phi)\n",
    "            # y_2 = A_2*sinus(x_2+phi)\n",
    "            # ...\n",
    "            amp = np.random.uniform(self.amp_range[0], self.amp_range[1], [self.batch_size, self.dim_output])\n",
    "        else:\n",
    "            # y_1 = A*sinus(x_1+phi)\n",
    "            # y_2 = A*sinus(x_2+phi)\n",
    "            # ...\n",
    "            amp = np.random.uniform(self.amp_range[0], self.amp_range[1], [self.batch_size])\n",
    "\n",
    "        if self.multidimensional_phase:\n",
    "            # y_1 = A*sinus(x_1+phi_1)\n",
    "            # y_2 = A*sinus(x_2+phi_2)\n",
    "            # ...\n",
    "            phase = np.random.uniform(self.phase_range[0], self.phase_range[1], [self.batch_size, self.dim_output])\n",
    "        else:\n",
    "            # y_1 = A*sinus(x_1+phi)\n",
    "            # y_2 = A*sinus(x_2+phi)\n",
    "            # ...\n",
    "            phase = np.random.uniform(self.phase_range[0], self.phase_range[1], [self.batch_size])\n",
    "\n",
    "        if self.noise == \"gaussian\" or self.noise ==\"hetero_multi\":\n",
    "            noise = np.random.normal(0, 0.1, [self.batch_size, self.num_samples_per_class, self.dim_output])\n",
    "        elif self.noise == \"heterogeneous\":\n",
    "\n",
    "            #noise = [np.random.normal(0, 0.1, [self.batch_size, self.num_samples_per_class, self.dim_output]),\n",
    "            #              np.random.normal(0, 0.2, [self.batch_size, self.num_samples_per_class, self.dim_output]),\n",
    "            #              np.random.uniform(-0.2, 0.2, [self.batch_size, self.num_samples_per_class, self.dim_output]),\n",
    "            #              np.random.normal(-0.1, 0.1, [self.batch_size, self.num_samples_per_class, self.dim_output]),]\n",
    "            noise = [np.random.uniform(-0.1,0.1, [self.batch_size, self.num_samples_per_class, self.dim_output]),\n",
    "                          np.random.normal(0, 0.75, [self.batch_size, self.num_samples_per_class, self.dim_output]),\n",
    "                          np.random.uniform(-0.2, 0.2, [self.batch_size, self.num_samples_per_class, self.dim_output]),\n",
    "                          np.random.normal(0, 0.75, [self.batch_size, self.num_samples_per_class, self.dim_output]),\n",
    "                          np.random.uniform(-0.2, 0.2, [self.batch_size, self.num_samples_per_class, self.dim_output]),\n",
    "                          np.random.uniform(-0.1, 0.1, [self.batch_size, self.num_samples_per_class, self.dim_output]),\n",
    "                          np.random.normal(0, 0.75, [self.batch_size, self.num_samples_per_class, self.dim_output]),\n",
    "                          np.random.uniform(-0.1, 0.1, [self.batch_size, self.num_samples_per_class, self.dim_output])]\n",
    "        elif self.noise == \"exp\":\n",
    "            noise = np.random.exponential(0.2,size=[self.batch_size, self.num_samples_per_class, self.dim_output])\n",
    "        else:\n",
    "            noise = np.zeros([self.batch_size, self.num_samples_per_class, self.dim_output])\n",
    "\n",
    "        outputs = np.zeros([self.batch_size, self.num_samples_per_class, self.dim_output])\n",
    "        init_inputs = np.zeros([self.batch_size, self.num_samples_per_class, self.dim_input])\n",
    "        for func in range(self.batch_size):\n",
    "            numbers = np.random.rand(7) * 10 - 5\n",
    "            sorted = np.sort(numbers)\n",
    "            self.split_intervals = [(-5.0, sorted[0])]\n",
    "            for i in range(1, len(sorted)):\n",
    "                self.split_intervals += [(sorted[i-1], sorted[i])]\n",
    "            self.split_intervals += [(sorted[-1], 5.0)]\n",
    "\n",
    "            init_inputs[func] = np.random.uniform(self.input_range[0], self.input_range[1],\n",
    "                                                  [self.num_samples_per_class, self.dim_input])\n",
    "            if input_idx is not None:\n",
    "                init_inputs[:, input_idx:, 0] = np.linspace(self.input_range[0], self.input_range[1],\n",
    "                                                            num=self.num_samples_per_class - input_idx, retstep=False)\n",
    "\n",
    "\n",
    "            outputs[func] = amp[func] * np.sin(init_inputs[func] - phase[func])\n",
    "            if self.noise == \"heterogeneous\":\n",
    "                for i, s in enumerate(self.split_intervals):\n",
    "                    mask = (init_inputs[func]>=s[0]) & (init_inputs[func]<s[1])\n",
    "                    outputs[func][mask]=outputs[func][mask]+noise[i][func][mask]\n",
    "            elif self.noise == \"hetero_multi\" or self.noise == \"exp\":\n",
    "                outputs[func] = amp[func]*np.sin(init_inputs[func] + phase[func])+abs((init_inputs[func] + phase[func]))*noise[func]\n",
    "            #elif self.noise == \"exp\":\n",
    "            #    print(\"HERE\")\n",
    "            #    outputs[func] = amp[func]*np.sin(init_inputs[func] + phase[func])+noise[func]\n",
    "            else:\n",
    "                outputs[func] = outputs[func] + noise[func]\n",
    "        return init_inputs.astype(np.float32), outputs.astype(np.float32), amp.astype(np.float32), phase.astype(\n",
    "            np.float32)"
   ]
  },
  {
   "cell_type": "code",
   "execution_count": 16,
   "metadata": {},
   "outputs": [],
   "source": [
    "generator = SinusoidalDataGenerator(200,10,multidimensional_phase=False,noise=\"gaussian\")"
   ]
  },
  {
   "cell_type": "code",
   "execution_count": 17,
   "metadata": {},
   "outputs": [],
   "source": [
    "X, y, amp, phase = generator.generate_sinusoid_batch()"
   ]
  },
  {
   "cell_type": "code",
   "execution_count": 18,
   "metadata": {},
   "outputs": [
    {
     "data": {
      "text/plain": [
       "(10, 200, 1)"
      ]
     },
     "execution_count": 18,
     "metadata": {},
     "output_type": "execute_result"
    }
   ],
   "source": [
    "X.shape"
   ]
  },
  {
   "cell_type": "code",
   "execution_count": 19,
   "metadata": {},
   "outputs": [],
   "source": [
    "import matplotlib.pyplot as plt"
   ]
  },
  {
   "cell_type": "code",
   "execution_count": 20,
   "metadata": {},
   "outputs": [
    {
     "data": {
      "text/plain": [
       "<matplotlib.collections.PathCollection at 0x7f8b72af1f70>"
      ]
     },
     "execution_count": 20,
     "metadata": {},
     "output_type": "execute_result"
    },
    {
     "data": {
      "image/png": "[encoded data removed]",
      "text/plain": [
       "<Figure size 432x288 with 1 Axes>"
      ]
     },
     "metadata": {
      "needs_background": "light"
     },
     "output_type": "display_data"
    }
   ],
   "source": [
    "plt.scatter(X[0].reshape(-1), y[0])"
   ]
  },
  {
   "cell_type": "code",
   "execution_count": 21,
   "metadata": {},
   "outputs": [],
   "source": [
    "generator = SinusoidalDataGenerator(500,10,multidimensional_phase=False,noise=\"hetero_multi\")"
   ]
  },
  {
   "cell_type": "code",
   "execution_count": 22,
   "metadata": {},
   "outputs": [],
   "source": [
    "X, y, amp, phase = generator.generate_sinusoid_batch()"
   ]
  },
  {
   "cell_type": "code",
   "execution_count": 23,
   "metadata": {},
   "outputs": [
    {
     "data": {
      "text/plain": [
       "<matplotlib.collections.PathCollection at 0x7f8b729b5ac0>"
      ]
     },
     "execution_count": 23,
     "metadata": {},
     "output_type": "execute_result"
    },
    {
     "data": {
      "image/png": "[encoded data removed]",
      "text/plain": [
       "<Figure size 432x288 with 1 Axes>"
      ]
     },
     "metadata": {
      "needs_background": "light"
     },
     "output_type": "display_data"
    }
   ],
   "source": [
    "plt.scatter(X[0].reshape(-1), y[0])"
   ]
  },
  {
   "cell_type": "code",
   "execution_count": 24,
   "metadata": {},
   "outputs": [],
   "source": [
    "input_x = np.linspace(-5,5,1000)\n",
    "x = np.sin(input_x)+np.random.exponential(1,size=(len(input_x)))\n",
    "x2=np.sin(input_x)"
   ]
  },
  {
   "cell_type": "code",
   "execution_count": 25,
   "metadata": {},
   "outputs": [
    {
     "data": {
      "text/plain": [
       "[<matplotlib.lines.Line2D at 0x7f8b7292e6d0>]"
      ]
     },
     "execution_count": 25,
     "metadata": {},
     "output_type": "execute_result"
    },
    {
     "data": {
      "image/png": "[encoded data removed]",
      "text/plain": [
       "<Figure size 432x288 with 1 Axes>"
      ]
     },
     "metadata": {
      "needs_background": "light"
     },
     "output_type": "display_data"
    }
   ],
   "source": [
    "plt.plot(input_x,x)\n",
    "plt.plot(input_x,x2)"
   ]
  },
  {
   "cell_type": "code",
   "execution_count": 26,
   "metadata": {},
   "outputs": [
    {
     "data": {
      "text/plain": [
       "<matplotlib.collections.PathCollection at 0x7f8b72083b20>"
      ]
     },
     "execution_count": 26,
     "metadata": {},
     "output_type": "execute_result"
    },
    {
     "data": {
      "image/png": "[encoded data removed]",
      "text/plain": [
       "<Figure size 432x288 with 1 Axes>"
      ]
     },
     "metadata": {
      "needs_background": "light"
     },
     "output_type": "display_data"
    }
   ],
   "source": [
    "plt.scatter(input_x,x)"
   ]
  },
  {
   "cell_type": "code",
   "execution_count": 27,
   "metadata": {},
   "outputs": [],
   "source": [
    "prefix='/home/anowak/projects/deep-kernel-transfer/save/sines1d_hetero4/{}/checkpoints/sines/MLP2_DKT_test_results.npy'\n",
    "sinesh4_in_range = get_table(prefix,kernels)\n",
    "prefix='/home/anowak/projects/deep-kernel-transfer/save/sines1d_hetero4/{}/checkpoints/sines/MLP2_DKT_outr_test_results.npy'\n",
    "sinesh4_out_range = get_table(prefix,kernels)"
   ]
  },
  {
   "cell_type": "code",
   "execution_count": 28,
   "metadata": {},
   "outputs": [
    {
     "data": {
      "text/html": [
       "<div>\n",
       "<style scoped>\n",
       "    .dataframe tbody tr th:only-of-type {\n",
       "        vertical-align: middle;\n",
       "    }\n",
       "\n",
       "    .dataframe tbody tr th {\n",
       "        vertical-align: top;\n",
       "    }\n",
       "\n",
       "    .dataframe thead th {\n",
       "        text-align: right;\n",
       "    }\n",
       "</style>\n",
       "<table border=\"1\" class=\"dataframe\">\n",
       "  <thead>\n",
       "    <tr style=\"text-align: right;\">\n",
       "      <th></th>\n",
       "      <th>method</th>\n",
       "      <th>mse</th>\n",
       "      <th>nll</th>\n",
       "    </tr>\n",
       "  </thead>\n",
       "  <tbody>\n",
       "    <tr>\n",
       "      <th>0</th>\n",
       "      <td>rbf</td>\n",
       "      <td>1.569 \\pm 1.630</td>\n",
       "      <td>0.479 \\pm 0.221</td>\n",
       "    </tr>\n",
       "    <tr>\n",
       "      <th>1</th>\n",
       "      <td>spectral</td>\n",
       "      <td>0.175 \\pm 0.121</td>\n",
       "      <td>0.366 \\pm 0.161</td>\n",
       "    </tr>\n",
       "    <tr>\n",
       "      <th>2</th>\n",
       "      <td>nn</td>\n",
       "      <td>0.181 \\pm 0.107</td>\n",
       "      <td>0.453 \\pm 0.227</td>\n",
       "    </tr>\n",
       "    <tr>\n",
       "      <th>3</th>\n",
       "      <td>flow_rbf</td>\n",
       "      <td>1.303 \\pm 1.360</td>\n",
       "      <td>0.327 \\pm 0.163</td>\n",
       "    </tr>\n",
       "    <tr>\n",
       "      <th>4</th>\n",
       "      <td>flow_spectral</td>\n",
       "      <td>0.218 \\pm 0.136</td>\n",
       "      <td>0.435 \\pm 0.193</td>\n",
       "    </tr>\n",
       "    <tr>\n",
       "      <th>5</th>\n",
       "      <td>flow_nn</td>\n",
       "      <td>0.195 \\pm 0.124</td>\n",
       "      <td>0.170 \\pm 0.151</td>\n",
       "    </tr>\n",
       "  </tbody>\n",
       "</table>\n",
       "</div>"
      ],
      "text/plain": [
       "          method              mse              nll\n",
       "0            rbf  1.569 \\pm 1.630  0.479 \\pm 0.221\n",
       "1       spectral  0.175 \\pm 0.121  0.366 \\pm 0.161\n",
       "2             nn  0.181 \\pm 0.107  0.453 \\pm 0.227\n",
       "3       flow_rbf  1.303 \\pm 1.360  0.327 \\pm 0.163\n",
       "4  flow_spectral  0.218 \\pm 0.136  0.435 \\pm 0.193\n",
       "5        flow_nn  0.195 \\pm 0.124  0.170 \\pm 0.151"
      ]
     },
     "execution_count": 28,
     "metadata": {},
     "output_type": "execute_result"
    }
   ],
   "source": [
    "sinesh4_in_range"
   ]
  },
  {
   "cell_type": "code",
   "execution_count": 29,
   "metadata": {},
   "outputs": [
    {
     "data": {
      "text/html": [
       "<div>\n",
       "<style scoped>\n",
       "    .dataframe tbody tr th:only-of-type {\n",
       "        vertical-align: middle;\n",
       "    }\n",
       "\n",
       "    .dataframe tbody tr th {\n",
       "        vertical-align: top;\n",
       "    }\n",
       "\n",
       "    .dataframe thead th {\n",
       "        text-align: right;\n",
       "    }\n",
       "</style>\n",
       "<table border=\"1\" class=\"dataframe\">\n",
       "  <thead>\n",
       "    <tr style=\"text-align: right;\">\n",
       "      <th></th>\n",
       "      <th>method</th>\n",
       "      <th>mse</th>\n",
       "      <th>nll</th>\n",
       "    </tr>\n",
       "  </thead>\n",
       "  <tbody>\n",
       "    <tr>\n",
       "      <th>0</th>\n",
       "      <td>rbf</td>\n",
       "      <td>2.985 \\pm 2.365</td>\n",
       "      <td>2.006 \\pm 0.589</td>\n",
       "    </tr>\n",
       "    <tr>\n",
       "      <th>1</th>\n",
       "      <td>spectral</td>\n",
       "      <td>1.328 \\pm 1.090</td>\n",
       "      <td>1.574 \\pm 0.401</td>\n",
       "    </tr>\n",
       "    <tr>\n",
       "      <th>2</th>\n",
       "      <td>nn</td>\n",
       "      <td>5.849 \\pm 12.092</td>\n",
       "      <td>8.636 \\pm 6.553</td>\n",
       "    </tr>\n",
       "    <tr>\n",
       "      <th>3</th>\n",
       "      <td>flow_rbf</td>\n",
       "      <td>3.899 \\pm 2.599</td>\n",
       "      <td>1.825 \\pm 0.527</td>\n",
       "    </tr>\n",
       "    <tr>\n",
       "      <th>4</th>\n",
       "      <td>flow_spectral</td>\n",
       "      <td>1.137 \\pm 0.898</td>\n",
       "      <td>1.347 \\pm 0.383</td>\n",
       "    </tr>\n",
       "    <tr>\n",
       "      <th>5</th>\n",
       "      <td>flow_nn</td>\n",
       "      <td>4.738 \\pm 6.285</td>\n",
       "      <td>2.919 \\pm 1.925</td>\n",
       "    </tr>\n",
       "  </tbody>\n",
       "</table>\n",
       "</div>"
      ],
      "text/plain": [
       "          method               mse              nll\n",
       "0            rbf   2.985 \\pm 2.365  2.006 \\pm 0.589\n",
       "1       spectral   1.328 \\pm 1.090  1.574 \\pm 0.401\n",
       "2             nn  5.849 \\pm 12.092  8.636 \\pm 6.553\n",
       "3       flow_rbf   3.899 \\pm 2.599  1.825 \\pm 0.527\n",
       "4  flow_spectral   1.137 \\pm 0.898  1.347 \\pm 0.383\n",
       "5        flow_nn   4.738 \\pm 6.285  2.919 \\pm 1.925"
      ]
     },
     "execution_count": 29,
     "metadata": {},
     "output_type": "execute_result"
    }
   ],
   "source": [
    "sinesh4_out_range"
   ]
  },
  {
   "cell_type": "code",
   "execution_count": 30,
   "metadata": {},
   "outputs": [],
   "source": [
    "prefix='/home/anowak/projects/deep-kernel-transfer/save/sines1d_hetero4_1e-2/{}/checkpoints/sines/MLP2_DKT_test_results.npy'\n",
    "sinesh4_in_range = get_table(prefix,kernels)\n",
    "prefix='/home/anowak/projects/deep-kernel-transfer/save/sines1d_hetero4/{}/checkpoints/sines/MLP2_DKT_outr_test_results.npy'\n",
    "sinesh4_out_range = get_table(prefix,kernels)"
   ]
  },
  {
   "cell_type": "code",
   "execution_count": 31,
   "metadata": {},
   "outputs": [
    {
     "data": {
      "text/html": [
       "<div>\n",
       "<style scoped>\n",
       "    .dataframe tbody tr th:only-of-type {\n",
       "        vertical-align: middle;\n",
       "    }\n",
       "\n",
       "    .dataframe tbody tr th {\n",
       "        vertical-align: top;\n",
       "    }\n",
       "\n",
       "    .dataframe thead th {\n",
       "        text-align: right;\n",
       "    }\n",
       "</style>\n",
       "<table border=\"1\" class=\"dataframe\">\n",
       "  <thead>\n",
       "    <tr style=\"text-align: right;\">\n",
       "      <th></th>\n",
       "      <th>method</th>\n",
       "      <th>mse</th>\n",
       "      <th>nll</th>\n",
       "    </tr>\n",
       "  </thead>\n",
       "  <tbody>\n",
       "    <tr>\n",
       "      <th>0</th>\n",
       "      <td>rbf</td>\n",
       "      <td>NaN</td>\n",
       "      <td>NaN</td>\n",
       "    </tr>\n",
       "    <tr>\n",
       "      <th>1</th>\n",
       "      <td>spectral</td>\n",
       "      <td>NaN</td>\n",
       "      <td>NaN</td>\n",
       "    </tr>\n",
       "    <tr>\n",
       "      <th>2</th>\n",
       "      <td>nn</td>\n",
       "      <td>NaN</td>\n",
       "      <td>NaN</td>\n",
       "    </tr>\n",
       "    <tr>\n",
       "      <th>3</th>\n",
       "      <td>flow_rbf</td>\n",
       "      <td>1.463 \\pm 1.691</td>\n",
       "      <td>0.330 \\pm 0.148</td>\n",
       "    </tr>\n",
       "    <tr>\n",
       "      <th>4</th>\n",
       "      <td>flow_spectral</td>\n",
       "      <td>0.190 \\pm 0.110</td>\n",
       "      <td>0.334 \\pm 0.146</td>\n",
       "    </tr>\n",
       "    <tr>\n",
       "      <th>5</th>\n",
       "      <td>flow_nn</td>\n",
       "      <td>0.303 \\pm 0.218</td>\n",
       "      <td>0.350 \\pm 0.147</td>\n",
       "    </tr>\n",
       "  </tbody>\n",
       "</table>\n",
       "</div>"
      ],
      "text/plain": [
       "          method              mse              nll\n",
       "0            rbf              NaN              NaN\n",
       "1       spectral              NaN              NaN\n",
       "2             nn              NaN              NaN\n",
       "3       flow_rbf  1.463 \\pm 1.691  0.330 \\pm 0.148\n",
       "4  flow_spectral  0.190 \\pm 0.110  0.334 \\pm 0.146\n",
       "5        flow_nn  0.303 \\pm 0.218  0.350 \\pm 0.147"
      ]
     },
     "execution_count": 31,
     "metadata": {},
     "output_type": "execute_result"
    }
   ],
   "source": [
    "sinesh4_in_range"
   ]
  },
  {
   "cell_type": "code",
   "execution_count": 32,
   "metadata": {},
   "outputs": [
    {
     "data": {
      "text/html": [
       "<div>\n",
       "<style scoped>\n",
       "    .dataframe tbody tr th:only-of-type {\n",
       "        vertical-align: middle;\n",
       "    }\n",
       "\n",
       "    .dataframe tbody tr th {\n",
       "        vertical-align: top;\n",
       "    }\n",
       "\n",
       "    .dataframe thead th {\n",
       "        text-align: right;\n",
       "    }\n",
       "</style>\n",
       "<table border=\"1\" class=\"dataframe\">\n",
       "  <thead>\n",
       "    <tr style=\"text-align: right;\">\n",
       "      <th></th>\n",
       "      <th>method</th>\n",
       "      <th>mse</th>\n",
       "      <th>nll</th>\n",
       "    </tr>\n",
       "  </thead>\n",
       "  <tbody>\n",
       "    <tr>\n",
       "      <th>0</th>\n",
       "      <td>rbf</td>\n",
       "      <td>2.985 \\pm 2.365</td>\n",
       "      <td>2.006 \\pm 0.589</td>\n",
       "    </tr>\n",
       "    <tr>\n",
       "      <th>1</th>\n",
       "      <td>spectral</td>\n",
       "      <td>1.328 \\pm 1.090</td>\n",
       "      <td>1.574 \\pm 0.401</td>\n",
       "    </tr>\n",
       "    <tr>\n",
       "      <th>2</th>\n",
       "      <td>nn</td>\n",
       "      <td>5.849 \\pm 12.092</td>\n",
       "      <td>8.636 \\pm 6.553</td>\n",
       "    </tr>\n",
       "    <tr>\n",
       "      <th>3</th>\n",
       "      <td>flow_rbf</td>\n",
       "      <td>3.899 \\pm 2.599</td>\n",
       "      <td>1.825 \\pm 0.527</td>\n",
       "    </tr>\n",
       "    <tr>\n",
       "      <th>4</th>\n",
       "      <td>flow_spectral</td>\n",
       "      <td>1.137 \\pm 0.898</td>\n",
       "      <td>1.347 \\pm 0.383</td>\n",
       "    </tr>\n",
       "    <tr>\n",
       "      <th>5</th>\n",
       "      <td>flow_nn</td>\n",
       "      <td>4.738 \\pm 6.285</td>\n",
       "      <td>2.919 \\pm 1.925</td>\n",
       "    </tr>\n",
       "  </tbody>\n",
       "</table>\n",
       "</div>"
      ],
      "text/plain": [
       "          method               mse              nll\n",
       "0            rbf   2.985 \\pm 2.365  2.006 \\pm 0.589\n",
       "1       spectral   1.328 \\pm 1.090  1.574 \\pm 0.401\n",
       "2             nn  5.849 \\pm 12.092  8.636 \\pm 6.553\n",
       "3       flow_rbf   3.899 \\pm 2.599  1.825 \\pm 0.527\n",
       "4  flow_spectral   1.137 \\pm 0.898  1.347 \\pm 0.383\n",
       "5        flow_nn   4.738 \\pm 6.285  2.919 \\pm 1.925"
      ]
     },
     "execution_count": 32,
     "metadata": {},
     "output_type": "execute_result"
    }
   ],
   "source": [
    "sinesh4_out_range"
   ]
  },
  {
   "cell_type": "code",
   "execution_count": 33,
   "metadata": {},
   "outputs": [],
   "source": [
    "prefix='/home/anowak/projects/deep-kernel-transfer/save/sines1d_hetero4/{}/checkpoints/sines/MLP2_DKT_test_results.npy'\n",
    "data = np.load(prefix.format(\"spectral\"), allow_pickle=True).item()"
   ]
  },
  {
   "cell_type": "code",
   "execution_count": 34,
   "metadata": {},
   "outputs": [
    {
     "data": {
      "text/plain": [
       "dict_keys(['mse_list', 'nll_list', 'mean', 'lower', 'upper', 'x', 'y', 'mse', 'mse_std', 'nll', 'nll_std'])"
      ]
     },
     "execution_count": 34,
     "metadata": {},
     "output_type": "execute_result"
    }
   ],
   "source": [
    "data.keys()"
   ]
  },
  {
   "cell_type": "code",
   "execution_count": 35,
   "metadata": {},
   "outputs": [
    {
     "data": {
      "text/plain": [
       "<matplotlib.collections.PathCollection at 0x7f8b71f3fb80>"
      ]
     },
     "execution_count": 35,
     "metadata": {},
     "output_type": "execute_result"
    },
    {
     "data": {
      "image/png": "[encoded data removed]",
      "text/plain": [
       "<Figure size 432x288 with 1 Axes>"
      ]
     },
     "metadata": {
      "needs_background": "light"
     },
     "output_type": "display_data"
    }
   ],
   "source": [
    "plt.scatter(data['x'][0], data['y'][0])"
   ]
  },
  {
   "cell_type": "code",
   "execution_count": 36,
   "metadata": {},
   "outputs": [],
   "source": [
    "prefix='/home/anowak/projects/deep-kernel-transfer/save/sines1d_hetero4/{}/checkpoints/sines/MLP2_DKT_test_results.npy'\n",
    "data = np.load(prefix.format(\"flow_spectral\"), allow_pickle=True).item()"
   ]
  },
  {
   "cell_type": "code",
   "execution_count": 37,
   "metadata": {},
   "outputs": [
    {
     "data": {
      "text/plain": [
       "<matplotlib.collections.PathCollection at 0x7f8b71fcc6a0>"
      ]
     },
     "execution_count": 37,
     "metadata": {},
     "output_type": "execute_result"
    },
    {
     "data": {
      "image/png": "[encoded data removed]",
      "text/plain": [
       "<Figure size 432x288 with 1 Axes>"
      ]
     },
     "metadata": {
      "needs_background": "light"
     },
     "output_type": "display_data"
    }
   ],
   "source": [
    "plt.scatter(data['x'][0], data['y'][0])"
   ]
  },
  {
   "cell_type": "code",
   "execution_count": 38,
   "metadata": {},
   "outputs": [],
   "source": [
    "prefix='/home/anowak/projects/deep-kernel-transfer/save/sines1d_hetero4/flow_nn/checkpoints/sines/plot_samples.npy'\n",
    "sam = np.load(prefix.format(\"spectral\"), allow_pickle=True).item()"
   ]
  },
  {
   "cell_type": "code",
   "execution_count": 39,
   "metadata": {},
   "outputs": [
    {
     "data": {
      "text/plain": [
       "dict_keys(['gauss_samples', 'gauss_y', 'flow_samples', 'flow_y', 'true_y', 'true_x'])"
      ]
     },
     "execution_count": 39,
     "metadata": {},
     "output_type": "execute_result"
    }
   ],
   "source": [
    "sam.keys()"
   ]
  },
  {
   "cell_type": "code",
   "execution_count": 40,
   "metadata": {},
   "outputs": [],
   "source": [
    "import matplotlib.colors as mcolors\n",
    "import seaborn as sns\n"
   ]
  },
  {
   "cell_type": "code",
   "execution_count": null,
   "metadata": {},
   "outputs": [
    {
     "data": {
      "image/png": "[encoded data removed]",
      "text/plain": [
       "<Figure size 432x288 with 1 Axes>"
      ]
     },
     "metadata": {
      "needs_background": "light"
     },
     "output_type": "display_data"
    }
   ],
   "source": [
    "import matplotlib.colors as mcolors\n",
    "import seaborn as sns\n",
    "\n",
    "\n",
    "\n",
    "\n",
    "\n",
    "X = sam[\"true_x\"].numpy().reshape(-1)\n",
    "ind = X.argsort()\n",
    "#plt.plot(X[ind],np.array(sam[\"true_y\"])[ind])\n",
    "GP = [g.numpy() for g in sam[\"gauss_samples\"]]\n",
    "GP = np.array(GP)\n",
    "GP = GP[ind]\n",
    "\n",
    "\n",
    "gamma=0.5\n",
    "\n",
    "\n",
    "\n",
    "\n",
    "A = X[ind].reshape(-1,1).repeat(10000, axis=1).reshape(-1)\n",
    "B = GP.reshape(-1)\n",
    "plt.hist2d(A,B, bins=50, norm=mcolors.PowerNorm(gamma), cmap=\"Blues\")\n",
    "X = sam[\"true_x\"].numpy().reshape(-1)\n",
    "plt.scatter(X,sam[\"true_y\"])\n",
    "plt.plot(X[ind],np.array(sam[\"true_y\"])[ind],c='r')\n",
    "plt.plot(X[ind],np.array(sam[\"gauss_y\"])[ind],c='y')\n",
    "plt.title(\"Gauss Prior\")\n",
    "plt.ylim((-4,4))\n",
    "plt.show()\n",
    "\n",
    "\n",
    "\n",
    "f, ax = plt.subplots(figsize=(7, 7))\n",
    "sns.kdeplot(A, y=B, shade=True, ax=ax)\n",
    "plt.show()\n",
    "\n",
    "ind = X.argsort()\n",
    "#plt.plot(X[ind],np.array(sam[\"true_y\"])[ind])\n",
    "FP = [g.numpy() for g in sam[\"flow_samples\"]]\n",
    "FP = np.array(FP)\n",
    "FP = FP[ind]\n",
    "plt.show()\n",
    "\n",
    "\n",
    "A = X[ind].reshape(-1,1).repeat(10000, axis=1).reshape(-1)\n",
    "B = FP.reshape(-1)\n",
    "plt.hist2d(A,B, bins=50, norm=mcolors.PowerNorm(gamma), cmap=\"Blues\")\n",
    "X = sam[\"true_x\"].numpy().reshape(-1)\n",
    "plt.scatter(X,sam[\"true_y\"])\n",
    "plt.plot(X[ind],np.array(sam[\"true_y\"])[ind],c='r')\n",
    "plt.plot(X[ind],np.array(sam[\"flow_y\"])[ind],c='y')\n",
    "plt.title(\"Flow\")\n",
    "plt.ylim((-4,4))\n",
    "plt.show()"
   ]
  },
  {
   "cell_type": "code",
   "execution_count": 41,
   "metadata": {},
   "outputs": [],
   "source": [
    "import matplotlib.gridspec as gridspec\n",
    "import matplotlib.colors as mcolors\n",
    "import seaborn as sns"
   ]
  },
  {
   "cell_type": "code",
   "execution_count": 64,
   "metadata": {},
   "outputs": [
    {
     "data": {
      "image/png": "[encoded data removed]",
      "text/plain": [
       "<Figure size 2160x720 with 4 Axes>"
      ]
     },
     "metadata": {
      "needs_background": "light"
     },
     "output_type": "display_data"
    }
   ],
   "source": [
    "import matplotlib.gridspec as gridspec\n",
    "fig = plt.figure(figsize=(30,10))\n",
    "spec = fig.add_gridspec(ncols=3, nrows=2,left=0.05, right=0.48,\n",
    "                        wspace=0.1, hspace=0.1)\n",
    "ax1 = fig.add_subplot(spec[0, 0:3])\n",
    "\n",
    "ax2a = fig.add_subplot(spec[1, 0])\n",
    "ax2b = fig.add_subplot(spec[1, 1])\n",
    "ax2c = fig.add_subplot(spec[1, 2])\n",
    "\n",
    "ax2s = [ax2a, ax2b, ax2c]\n",
    "gamma=0.5\n",
    "ax2b.set_yticks([])\n",
    "ax2c.set_yticks([])\n",
    "#ax2.yaxis.tick_right()\n",
    "\n",
    "# spec2 = fig.add_gridspec(nrows=2, ncols=3, left=0.52, right=0.98, wspace=0.10, hspace=0.1)\n",
    "\n",
    "# ax3 = fig.add_subplot(spec2[0, 0:3])\n",
    "\n",
    "# ax4a = fig.add_subplot(spec2[1, 0])\n",
    "# ax4b = fig.add_subplot(spec2[1, 1])\n",
    "# ax4c = fig.add_subplot(spec2[1, 2])\n",
    "\n",
    "# ax4s = [ax4a, ax4b, ax4c]\n",
    "\n",
    "# ax4b.set_yticks([])\n",
    "# ax4c.set_yticks([])\n",
    "\n",
    "prefix='/home/anowak/projects/deep-kernel-transfer/save/sines1d_hetero4/flow_nn/checkpoints/sines/plot_samples.npy'\n",
    "sam = np.load(prefix, allow_pickle=True).item()\n",
    "\n",
    "\n",
    "X = sam[\"true_x\"].numpy().reshape(-1)\n",
    "ind = X.argsort()\n",
    "GP = [g.numpy() for g in sam[\"gauss_samples\"]]\n",
    "GP = np.array(GP)\n",
    "GP = GP[ind]\n",
    "\n",
    "FP = [g.numpy() for g in sam[\"flow_samples\"]]\n",
    "FP = np.array(FP)\n",
    "FP = FP[ind]\n",
    "\n",
    "\n",
    "A = X[ind].reshape(-1,1).repeat(10000, axis=1).reshape(-1)\n",
    "B = FP.reshape(-1)\n",
    "ax1.hist2d(A,B, bins=50, norm=mcolors.PowerNorm(gamma), cmap=\"Blues\")\n",
    "ax1.set_ylim((-4,4))\n",
    "ax1.scatter(X,sam[\"true_y\"],c='navy',label=\"samples\")\n",
    "ax1.plot(X[ind],np.array(sam[\"flow_y\"])[ind],c='r', label=\"prediction\", linewidth=5)\n",
    "#ax1.set_title(\"Flow + NN linear\",size=20)\n",
    "ax1.set_xlim((np.min(A), np.max(A)))\n",
    "\n",
    "\n",
    "def plot_marginal(nr, ax2, ax1, GP, FP=None, lim=None):\n",
    "    ax1.axvline(X[ind][nr],c='black',linewidth=3)\n",
    "    ax2.set_xlabel(\"x={:.2f}\".format(np.round(X[ind][nr],2)),size=23)\n",
    "    if FP is not None:\n",
    "        ax2.hist(GP[nr].reshape(-1), bins=50, density=True, facecolor='g', alpha=0.3, label=\"prior\")  \n",
    "        ax2.hist(FP[nr].reshape(-1), bins=50, density=True, facecolor='r', alpha=0.3, label=\"pred\")\n",
    "        ax2.axvline(np.array(sam[\"flow_y\"])[ind][nr], 0, 1.6, color='r', alpha=0.7,label=\"pred mean\", linewidth=5)\n",
    "        ax2.axvline(np.array(sam[\"gauss_y\"])[ind][nr], 0, 1.6, color='g', alpha=0.7,label=\"prior mean\", linewidth=5)\n",
    "        ax2.axvline(np.array(sam[\"true_y\"])[ind][nr], 0, 1.6, color='b', alpha=0.7, linestyle=\"--\", label=\"true\", linewidth=5)\n",
    "        ax2.set_xlim(lim)\n",
    "    else:\n",
    "        ax2.hist(GP[nr].reshape(-1), bins=50, density=True, facecolor='r', alpha=0.3, label=\"pred\")                \n",
    "        ax2.axvline(np.array(sam[\"gauss_y\"])[ind][nr], 0, 1.6, color='r', alpha=0.7, label=\"pred mean\", linewidth=5)\n",
    "        ax2.axvline(np.array(sam[\"true_y\"])[ind][nr], 0, 1.6, color='b',linestyle=\"--\", alpha=0.7, label=\"true\", linewidth=5)\n",
    "        ax2.set_xlim(lim)  \n",
    "    ax2.set_ylim((0,1.8))\n",
    "\n",
    "plot_marginal(60, ax2a, ax1, GP, FP, lim=(-1,7))\n",
    "plot_marginal(70, ax2b, ax1, GP, FP, lim=(0.5, 4.5))\n",
    "plot_marginal(177, ax2c, ax1, GP, FP, lim=(-4,2))\n",
    "\n",
    "T = list(set([-4,-2,0,2]+[np.round(X[ind][60],2), np.round(X[ind][70],2), np.round(X[ind][177],2)]))\n",
    "\n",
    "\n",
    "ax1.set_xticks(T)\n",
    "\n",
    "\n",
    "ax2a.legend(loc='upper center', bbox_to_anchor=(-0.04, -0.25, 3.3, 0.102), mode=\"expand\",\n",
    "          ncol=5, fancybox=False, shadow=False, prop={'size': 25})\n",
    "# prefix='/home/anowak/projects/deep-kernel-transfer/save/sines1d_hetero4/spectral/checkpoints/sines/plot_samples.npy'\n",
    "# sam = np.load(prefix, allow_pickle=True).item()\n",
    "\n",
    "\n",
    "# X = sam[\"true_x\"].numpy().reshape(-1)\n",
    "# ind = X.argsort()\n",
    "# GP = [g.numpy() for g in sam[\"gauss_samples\"]]\n",
    "# GP = np.array(GP)\n",
    "# GP = GP[ind]\n",
    "\n",
    "\n",
    "# A = X[ind].reshape(-1,1).repeat(10000, axis=1).reshape(-1)\n",
    "# B = GP.reshape(-1)\n",
    "# ax3.hist2d(A,B, bins=50, norm=mcolors.PowerNorm(gamma), cmap=\"Blues\")\n",
    "# ax3.set_ylim((-4,4))\n",
    "# ax3.scatter(X,sam[\"true_y\"],c='navy')\n",
    "# ax3.plot(X[ind],np.array(sam[\"gauss_y\"])[ind],c='r')\n",
    "# ax3.set_title(\"DKT+Spectral\",size=20)\n",
    "# ax3.set_xlim((np.min(A), np.max(A)))\n",
    "\n",
    "\n",
    "# plot_marginal(60, ax4a, ax3, GP, lim=(-1,7))\n",
    "# plot_marginal(70, ax4b, ax3, GP, lim=(0.5, 4.5))\n",
    "# plot_marginal(177, ax4c, ax3, GP, lim=(-4,2))\n",
    "\n",
    "# ax3.set_xticks(T)\n",
    "# ax4a.legend(prop={'size': 15})\n",
    "\n",
    "ax1.tick_params(axis='y', labelsize=18 ) \n",
    "#ax3.tick_params(axis='y', labelsize=15 ) \n",
    "\n",
    "ax1.tick_params(axis='x', labelsize=16 ) \n",
    "#ax3.tick_params(axis='x', labelsize=12 ) \n",
    "\n",
    "ax2a.tick_params(axis='y', labelsize=18 ) \n",
    "#ax4a.tick_params(axis='y', labelsize=15 ) \n",
    "\n",
    "ax2a.tick_params(axis='x', labelsize=18 ) \n",
    "ax2b.tick_params(axis='x', labelsize=18 ) \n",
    "ax2c.tick_params(axis='x', labelsize=18 ) \n",
    "\n",
    "plt.show()"
   ]
  },
  {
   "cell_type": "code",
   "execution_count": 62,
   "metadata": {},
   "outputs": [
    {
     "data": {
      "image/png": "[encoded data removed]",
      "text/plain": [
       "<Figure size 2160x720 with 4 Axes>"
      ]
     },
     "metadata": {
      "needs_background": "light"
     },
     "output_type": "display_data"
    }
   ],
   "source": [
    "import matplotlib.gridspec as gridspec\n",
    "fig = plt.figure(figsize=(30,10))\n",
    "# spec = fig.add_gridspec(ncols=3, nrows=2,left=0.05, right=0.48,\n",
    "#                         wspace=0.1, hspace=0.1)\n",
    "# ax1 = fig.add_subplot(spec[0, 0:3])\n",
    "\n",
    "# ax2a = fig.add_subplot(spec[1, 0])\n",
    "# ax2b = fig.add_subplot(spec[1, 1])\n",
    "# ax2c = fig.add_subplot(spec[1, 2])\n",
    "\n",
    "# ax2s = [ax2a, ax2b, ax2c]\n",
    "\n",
    "# ax2b.set_yticks([])\n",
    "# ax2c.set_yticks([])\n",
    "# #ax2.yaxis.tick_right()\n",
    "\n",
    "spec2 = fig.add_gridspec(nrows=2, ncols=3, left=0.52, right=0.98, wspace=0.10, hspace=0.1)\n",
    "\n",
    "ax3 = fig.add_subplot(spec2[0, 0:3])\n",
    "\n",
    "ax4a = fig.add_subplot(spec2[1, 0])\n",
    "ax4b = fig.add_subplot(spec2[1, 1])\n",
    "ax4c = fig.add_subplot(spec2[1, 2])\n",
    "\n",
    "ax4s = [ax4a, ax4b, ax4c]\n",
    "\n",
    "ax4b.set_yticks([])\n",
    "ax4c.set_yticks([])\n",
    "\n",
    "# prefix='/home/anowak/projects/deep-kernel-transfer/save/sines1d_hetero4/flow_nn/checkpoints/sines/plot_samples.npy'\n",
    "# sam = np.load(prefix, allow_pickle=True).item()\n",
    "\n",
    "\n",
    "# X = sam[\"true_x\"].numpy().reshape(-1)\n",
    "# ind = X.argsort()\n",
    "# GP = [g.numpy() for g in sam[\"gauss_samples\"]]\n",
    "# GP = np.array(GP)\n",
    "# GP = GP[ind]\n",
    "\n",
    "# FP = [g.numpy() for g in sam[\"flow_samples\"]]\n",
    "# FP = np.array(FP)\n",
    "# FP = FP[ind]\n",
    "\n",
    "\n",
    "# A = X[ind].reshape(-1,1).repeat(10000, axis=1).reshape(-1)\n",
    "# B = FP.reshape(-1)\n",
    "# ax1.hist2d(A,B, bins=50, norm=mcolors.PowerNorm(gamma), cmap=\"Blues\")\n",
    "# ax1.set_ylim((-4,4))\n",
    "# ax1.scatter(X,sam[\"true_y\"],c='navy',label=\"samples\")\n",
    "# ax1.plot(X[ind],np.array(sam[\"flow_y\"])[ind],c='r', label=\"prediction\")\n",
    "# ax1.set_title(\"Flow + NN linear\",size=20)\n",
    "# ax1.set_xlim((np.min(A), np.max(A)))\n",
    "\n",
    "\n",
    "def plot_marginal(nr, ax2, ax1, GP, FP=None, lim=None):\n",
    "    ax1.axvline(X[ind][nr],c='black',linewidth=3)\n",
    "    ax2.set_xlabel(\"x={:.2f}\".format(np.round(X[ind][nr],2)),size=23)\n",
    "    if FP is not None:\n",
    "        ax2.hist(GP[nr].reshape(-1), bins=50, density=True, facecolor='g', alpha=0.3, label=\"prior\")  \n",
    "        ax2.hist(FP[nr].reshape(-1), bins=50, density=True, facecolor='r', alpha=0.3, label=\"pred\")\n",
    "        ax2.axvline(np.array(sam[\"flow_y\"])[ind][nr], 0, 1.6, color='r',  alpha=0.7, label=\"pred mean\", linewidth=5)\n",
    "        ax2.axvline(np.array(sam[\"gauss_y\"])[ind][nr], 0, 1.6, color='g',  alpha=0.7, label=\"prior mean\", linewidth=5)\n",
    "        ax2.axvline(np.array(sam[\"true_y\"])[ind][nr], 0, 1.6, color='b', alpha=0.7, label=\"true\", linewidth=5)\n",
    "        ax2.set_xlim(lim)\n",
    "    else:\n",
    "        ax2.hist(GP[nr].reshape(-1), bins=50, density=True, facecolor='r', alpha=0.3, label=\"pred\")                \n",
    "        ax2.axvline(np.array(sam[\"gauss_y\"])[ind][nr], 0, 1.6, color='r',  alpha=0.7, label=\"pred mean\", linewidth=5)\n",
    "        ax2.axvline(np.array(sam[\"true_y\"])[ind][nr], 0, 1.6, color='b', linestyle=\"--\",  alpha=0.7, label=\"true\", linewidth=5)\n",
    "        ax2.set_xlim(lim)  \n",
    "    ax2.set_ylim((0,1.8))\n",
    "\n",
    "# plot_marginal(60, ax2a, ax1, GP, FP, lim=(-1,7))\n",
    "# plot_marginal(70, ax2b, ax1, GP, FP, lim=(0.5, 4.5))\n",
    "# plot_marginal(177, ax2c, ax1, GP, FP, lim=(-4,2))\n",
    "\n",
    "T = list(set([-4,-2,0,2]+[np.round(X[ind][60],2), np.round(X[ind][70],2), np.round(X[ind][177],2)]))\n",
    "\n",
    "\n",
    "# ax1.set_xticks(T)\n",
    "# ax2a.legend(prop={'size': 15})\n",
    "\n",
    "\n",
    "prefix='/home/anowak/projects/deep-kernel-transfer/save/sines1d_hetero4/spectral/checkpoints/sines/plot_samples.npy'\n",
    "sam = np.load(prefix, allow_pickle=True).item()\n",
    "\n",
    "\n",
    "X = sam[\"true_x\"].numpy().reshape(-1)\n",
    "ind = X.argsort()\n",
    "GP = [g.numpy() for g in sam[\"gauss_samples\"]]\n",
    "GP = np.array(GP)\n",
    "GP = GP[ind]\n",
    "\n",
    "\n",
    "A = X[ind].reshape(-1,1).repeat(10000, axis=1).reshape(-1)\n",
    "B = GP.reshape(-1)\n",
    "ax3.hist2d(A,B, bins=50, norm=mcolors.PowerNorm(gamma), cmap=\"Blues\")\n",
    "ax3.set_ylim((-4,4))\n",
    "ax3.scatter(X,sam[\"true_y\"],c='navy')\n",
    "ax3.plot(X[ind],np.array(sam[\"gauss_y\"])[ind],c='r', linewidth=5)\n",
    "#ax3.set_title(\"DKT+Spectral\",size=20)\n",
    "ax3.set_xlim((np.min(A), np.max(A)))\n",
    "\n",
    "\n",
    "plot_marginal(60, ax4a, ax3, GP, lim=(-1,7))\n",
    "plot_marginal(70, ax4b, ax3, GP, lim=(0.5, 4.5))\n",
    "plot_marginal(177, ax4c, ax3, GP, lim=(-4,2))\n",
    "\n",
    "ax3.set_xticks(T)\n",
    "\n",
    "ax4a.legend(loc='upper center', bbox_to_anchor=(-0.04, -0.25, 3.3, 0.102), mode=\"expand\",\n",
    "          ncol=5, fancybox=False, shadow=False, prop={'size': 25})\n",
    "\n",
    "ax3.tick_params(axis='y', labelsize=18 ) \n",
    "#ax3.tick_params(axis='y', labelsize=15 ) \n",
    "\n",
    "ax3.tick_params(axis='x', labelsize=16 ) \n",
    "#ax3.tick_params(axis='x', labelsize=12 ) \n",
    "\n",
    "ax4a.tick_params(axis='y', labelsize=18 ) \n",
    "#ax4a.tick_params(axis='y', labelsize=15 ) \n",
    "\n",
    "ax4a.tick_params(axis='x', labelsize=18 ) \n",
    "ax4b.tick_params(axis='x', labelsize=18 ) \n",
    "ax4c.tick_params(axis='x', labelsize=18 ) \n",
    "\n",
    "plt.show()"
   ]
  },
  {
   "cell_type": "code",
   "execution_count": null,
   "metadata": {},
   "outputs": [],
   "source": [
    "prefix='/home/anowak/projects/deep-kernel-transfer/save/sines1d_hetero4/{}/checkpoints/sines/plot_samples.npy'\n",
    "sam = np.load(prefix.format(\"spectral\"), allow_pickle=True).item()"
   ]
  },
  {
   "cell_type": "code",
   "execution_count": null,
   "metadata": {},
   "outputs": [],
   "source": [
    "import matplotlib.colors as mcolors\n",
    "\n",
    "ind = X.argsort()\n",
    "#plt.plot(X[ind],np.array(sam[\"true_y\"])[ind])\n",
    "GP = [g.numpy() for g in sam[\"gauss_samples\"]]\n",
    "GP = np.array(GP)\n",
    "GP = GP[ind]\n",
    "plt.show()\n",
    "\n",
    "gamma=0.5\n",
    "\n",
    "\n",
    "A = X[ind].reshape(-1,1).repeat(10000, axis=1).reshape(-1)\n",
    "B = GP.reshape(-1)\n",
    "plt.hist2d(A,B, bins=50, norm=mcolors.PowerNorm(gamma),cmap=\"Blues\")\n",
    "X = sam[\"true_x\"].numpy().reshape(-1)\n",
    "plt.scatter(X,sam[\"true_y\"])\n",
    "#plt.plot(X[ind],np.array(sam[\"true_y\"])[ind],c='r')\n",
    "plt.plot(X[ind],np.array(sam[\"gauss_y\"])[ind],c='y')\n",
    "plt.ylim((-4,4))\n",
    "plt.title(\"Gauss Prior\")\n",
    "plt.show()\n"
   ]
  },
  {
   "cell_type": "code",
   "execution_count": null,
   "metadata": {},
   "outputs": [],
   "source": []
  },
  {
   "cell_type": "markdown",
   "metadata": {},
   "source": [
    "# EXP"
   ]
  },
  {
   "cell_type": "code",
   "execution_count": 31,
   "metadata": {},
   "outputs": [],
   "source": [
    "prefix='/home/anowak/projects/deep-kernel-transfer/save/sines1d_exp/{}/checkpoints/sines/MLP2_DKT_test_results.npy'\n",
    "sines_in_range = get_table(prefix,kernels)\n",
    "prefix='/home/anowak/projects/deep-kernel-transfer/save/sines1d_exp/{}/checkpoints/sines/MLP2_DKT_outr_test_results.npy'\n",
    "sines_out_range = get_table(prefix,kernels)"
   ]
  },
  {
   "cell_type": "code",
   "execution_count": 32,
   "metadata": {},
   "outputs": [
    {
     "data": {
      "text/html": [
       "<div>\n",
       "<style scoped>\n",
       "    .dataframe tbody tr th:only-of-type {\n",
       "        vertical-align: middle;\n",
       "    }\n",
       "\n",
       "    .dataframe tbody tr th {\n",
       "        vertical-align: top;\n",
       "    }\n",
       "\n",
       "    .dataframe thead th {\n",
       "        text-align: right;\n",
       "    }\n",
       "</style>\n",
       "<table border=\"1\" class=\"dataframe\">\n",
       "  <thead>\n",
       "    <tr style=\"text-align: right;\">\n",
       "      <th></th>\n",
       "      <th>method</th>\n",
       "      <th>mse</th>\n",
       "      <th>nll</th>\n",
       "    </tr>\n",
       "  </thead>\n",
       "  <tbody>\n",
       "    <tr>\n",
       "      <th>0</th>\n",
       "      <td>rbf</td>\n",
       "      <td>1.808 \\pm 1.565</td>\n",
       "      <td>0.816 \\pm 0.095</td>\n",
       "    </tr>\n",
       "    <tr>\n",
       "      <th>1</th>\n",
       "      <td>spectral</td>\n",
       "      <td>0.751 \\pm 0.677</td>\n",
       "      <td>0.804 \\pm 0.105</td>\n",
       "    </tr>\n",
       "    <tr>\n",
       "      <th>2</th>\n",
       "      <td>nn</td>\n",
       "      <td>0.431 \\pm 0.270</td>\n",
       "      <td>0.776 \\pm 0.095</td>\n",
       "    </tr>\n",
       "    <tr>\n",
       "      <th>3</th>\n",
       "      <td>flow_rbf</td>\n",
       "      <td>1.449 \\pm 1.239</td>\n",
       "      <td>0.815 \\pm 0.107</td>\n",
       "    </tr>\n",
       "    <tr>\n",
       "      <th>4</th>\n",
       "      <td>flow_spectral</td>\n",
       "      <td>0.700 \\pm 0.449</td>\n",
       "      <td>0.878 \\pm 0.164</td>\n",
       "    </tr>\n",
       "    <tr>\n",
       "      <th>5</th>\n",
       "      <td>flow_nn</td>\n",
       "      <td>0.417 \\pm 0.212</td>\n",
       "      <td>0.773 \\pm 0.092</td>\n",
       "    </tr>\n",
       "  </tbody>\n",
       "</table>\n",
       "</div>"
      ],
      "text/plain": [
       "          method              mse              nll\n",
       "0            rbf  1.808 \\pm 1.565  0.816 \\pm 0.095\n",
       "1       spectral  0.751 \\pm 0.677  0.804 \\pm 0.105\n",
       "2             nn  0.431 \\pm 0.270  0.776 \\pm 0.095\n",
       "3       flow_rbf  1.449 \\pm 1.239  0.815 \\pm 0.107\n",
       "4  flow_spectral  0.700 \\pm 0.449  0.878 \\pm 0.164\n",
       "5        flow_nn  0.417 \\pm 0.212  0.773 \\pm 0.092"
      ]
     },
     "execution_count": 32,
     "metadata": {},
     "output_type": "execute_result"
    }
   ],
   "source": [
    "sines_in_range"
   ]
  },
  {
   "cell_type": "code",
   "execution_count": 33,
   "metadata": {},
   "outputs": [
    {
     "data": {
      "text/html": [
       "<div>\n",
       "<style scoped>\n",
       "    .dataframe tbody tr th:only-of-type {\n",
       "        vertical-align: middle;\n",
       "    }\n",
       "\n",
       "    .dataframe tbody tr th {\n",
       "        vertical-align: top;\n",
       "    }\n",
       "\n",
       "    .dataframe thead th {\n",
       "        text-align: right;\n",
       "    }\n",
       "</style>\n",
       "<table border=\"1\" class=\"dataframe\">\n",
       "  <thead>\n",
       "    <tr style=\"text-align: right;\">\n",
       "      <th></th>\n",
       "      <th>method</th>\n",
       "      <th>mse</th>\n",
       "      <th>nll</th>\n",
       "    </tr>\n",
       "  </thead>\n",
       "  <tbody>\n",
       "    <tr>\n",
       "      <th>0</th>\n",
       "      <td>rbf</td>\n",
       "      <td>2.530 \\pm 2.134</td>\n",
       "      <td>0.857 \\pm 0.095</td>\n",
       "    </tr>\n",
       "    <tr>\n",
       "      <th>1</th>\n",
       "      <td>spectral</td>\n",
       "      <td>0.772 \\pm 0.594</td>\n",
       "      <td>0.817 \\pm 0.104</td>\n",
       "    </tr>\n",
       "    <tr>\n",
       "      <th>2</th>\n",
       "      <td>nn</td>\n",
       "      <td>6.373 \\pm 9.046</td>\n",
       "      <td>2.904 \\pm 1.989</td>\n",
       "    </tr>\n",
       "    <tr>\n",
       "      <th>3</th>\n",
       "      <td>flow_rbf</td>\n",
       "      <td>4.602 \\pm 3.292</td>\n",
       "      <td>0.886 \\pm 0.111</td>\n",
       "    </tr>\n",
       "    <tr>\n",
       "      <th>4</th>\n",
       "      <td>flow_spectral</td>\n",
       "      <td>2.162 \\pm 2.233</td>\n",
       "      <td>0.992 \\pm 0.241</td>\n",
       "    </tr>\n",
       "    <tr>\n",
       "      <th>5</th>\n",
       "      <td>flow_nn</td>\n",
       "      <td>7.060 \\pm 9.996</td>\n",
       "      <td>2.696 \\pm 1.680</td>\n",
       "    </tr>\n",
       "  </tbody>\n",
       "</table>\n",
       "</div>"
      ],
      "text/plain": [
       "          method              mse              nll\n",
       "0            rbf  2.530 \\pm 2.134  0.857 \\pm 0.095\n",
       "1       spectral  0.772 \\pm 0.594  0.817 \\pm 0.104\n",
       "2             nn  6.373 \\pm 9.046  2.904 \\pm 1.989\n",
       "3       flow_rbf  4.602 \\pm 3.292  0.886 \\pm 0.111\n",
       "4  flow_spectral  2.162 \\pm 2.233  0.992 \\pm 0.241\n",
       "5        flow_nn  7.060 \\pm 9.996  2.696 \\pm 1.680"
      ]
     },
     "execution_count": 33,
     "metadata": {},
     "output_type": "execute_result"
    }
   ],
   "source": [
    "sines_out_range"
   ]
  },
  {
   "cell_type": "code",
   "execution_count": null,
   "metadata": {},
   "outputs": [],
   "source": []
  }
 ],
 "metadata": {
  "kernelspec": {
   "display_name": "Python 3",
   "language": "python",
   "name": "python3"
  },
  "language_info": {
   "codemirror_mode": {
    "name": "ipython",
    "version": 3
   },
   "file_extension": ".py",
   "mimetype": "text/x-python",
   "name": "python",
   "nbconvert_exporter": "python",
   "pygments_lexer": "ipython3",
   "version": "3.8.5"
  }
 },
 "nbformat": 4,
 "nbformat_minor": 4
}
